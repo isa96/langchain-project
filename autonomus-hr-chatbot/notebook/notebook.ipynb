{
 "cells": [
  {
   "cell_type": "code",
   "execution_count": 94,
   "metadata": {},
   "outputs": [],
   "source": [
    "# load core modules\n",
    "import pinecone\n",
    "from langchain.embeddings.openai import OpenAIEmbeddings\n",
    "from langchain.vectorstores import Pinecone\n",
    "from langchain.chat_models import ChatOpenAI\n",
    "from langchain.chains import RetrievalQA\n",
    "# load agents and tools modules\n",
    "import pandas as pd\n",
    "from io import StringIO\n",
    "from langchain.tools.python.tool import PythonAstREPLTool\n",
    "from langchain.agents import initialize_agent, Tool\n",
    "from langchain.agents import AgentType\n",
    "from langchain import LLMMathChain\n",
    "\n",
    "# initialize pinecone client and connect to pinecone index\n",
    "pinecone.init(      \n",
    "\tapi_key='65cd1f0b-fa6c-42dc-902e-5be9acffa7c5',      \n",
    "\tenvironment='us-west1-gcp-free'      \n",
    ")      \n",
    "index = pinecone.Index('tk-policy')\n",
    "\n",
    "# initialize embeddings object; for use with user query/input\n",
    "embed = OpenAIEmbeddings(\n",
    "                model = 'text-embedding-ada-002'\n",
    "            )\n",
    "\n",
    "# initialize langchain vectorstore(pinecone) object\n",
    "text_field = 'text' # key of dict that stores the text metadata in the index\n",
    "vectorstore = Pinecone(\n",
    "    index, embed.embed_query, text_field\n",
    ")\n",
    "\n",
    "llm = ChatOpenAI(    \n",
    "    model_name=\"gpt-3.5-turbo\", \n",
    "    temperature=0.0\n",
    "    )\n",
    "\n",
    "# initialize vectorstore retriever object\n",
    "timekeeping_policy = RetrievalQA.from_chain_type(\n",
    "    llm=llm,\n",
    "    chain_type=\"stuff\",\n",
    "    retriever=vectorstore.as_retriever(),\n",
    ")\n",
    "\n",
    "df = pd.read_csv(\"data/employee_data.csv\") # load employee_data.csv as dataframe\n",
    "python = PythonAstREPLTool(locals={\"df\": df}) # set access of python_repl tool to the dataframe\n",
    "\n",
    "# create calculator tool\n",
    "calculator = LLMMathChain.from_llm(llm=llm, verbose=True)\n",
    "\n",
    "# create variables for f strings embedded in the prompts\n",
    "user = 'Alexander Verdad' # set user\n",
    "df_columns = df.columns.to_list() # print column names of df\n",
    "\n",
    "# prep the (tk policy) vectordb retriever, the python_repl(with df access) and langchain calculator as tools for the agent\n",
    "tools = [\n",
    "    Tool(\n",
    "        name = \"Timekeeping Policies\",\n",
    "        func=timekeeping_policy.run,\n",
    "        description=\"\"\"\n",
    "        Useful for when you need to answer questions about employee timekeeping policies.\n",
    "\n",
    "        <user>: What is the policy on unused vacation leave?\n",
    "        <assistant>: I need to check the timekeeping policies to answer this question.\n",
    "        <assistant>: Action: Timekeeping Policies\n",
    "        <assistant>: Action Input: Vacation Leave Policy - Unused Leave\n",
    "        ...\n",
    "        \"\"\"\n",
    "    ),\n",
    "    Tool(\n",
    "        name = \"Employee Data\",\n",
    "        func=python.run,\n",
    "        description = f\"\"\"\n",
    "        Useful for when you need to answer questions about employee data stored in pandas dataframe 'df'. \n",
    "        Run python pandas operations on 'df' to help you get the right answer.\n",
    "        'df' has the following columns: {df_columns}\n",
    "        \n",
    "        <user>: How many Sick Leave do I have left?\n",
    "        <assistant>: df[df['name'] == '{user}']['sick_leave']\n",
    "        <assistant>: You have n sick leaves left.              \n",
    "        \"\"\"\n",
    "    ),\n",
    "    Tool(\n",
    "        name = \"Calculator\",\n",
    "        func=calculator.run,\n",
    "        description = f\"\"\"\n",
    "        Useful when you need to do math operations or arithmetic.\n",
    "        <user>: How much will I be paid if I encash my unused VLs?\n",
    "        <assistant>: df[df['name'] == '{user}'][['basic_pay_in_php', 'vacation_leave']]\n",
    "        <assistant>: You will be paid Php n if you encash your unused VLs.'\n",
    "        \"\"\"\n",
    "    )\n",
    "]\n",
    "\n",
    "# change the value of the prefix argument in the initialize_agent function. This will overwrite the default prompt template of the zero shot agent type\n",
    "agent_kwargs = {'prefix': f'You are friendly HR assistant. You are tasked to assist the current user: {user} on questions related to HR. You have access to the following tools:'}\n",
    "\n",
    "\n",
    "# initialize the LLM agent\n",
    "agent = initialize_agent(tools, \n",
    "                         llm, \n",
    "                         agent=AgentType.ZERO_SHOT_REACT_DESCRIPTION, \n",
    "                         verbose=True, \n",
    "                         agent_kwargs=agent_kwargs\n",
    "                         )\n",
    "# define q and a function for frontend\n",
    "def get_response(user_input):\n",
    "    response = agent.run(user_input)\n",
    "    return response"
   ]
  },
  {
   "cell_type": "code",
   "execution_count": 89,
   "metadata": {},
   "outputs": [
    {
     "name": "stdout",
     "output_type": "stream",
     "text": [
      "You are friendly HR assistant. You are tasked to assist the current user: Alexander Verdad on questions related to HR. You have access to the following tools:\n",
      "\n",
      "Timekeeping Policies: \n",
      "        Useful for when you need to answer questions about employee timekeeping policies.\n",
      "\n",
      "        <user>: What is the policy on unused vacation leave?\n",
      "        <assistant>: I need to check the timekeeping policies to answer this question.\n",
      "        <assistant>: Action: Timekeeping Policies\n",
      "        <assistant>: Action Input: Vacation Leave Policy - Unused Leave\n",
      "        ...\n",
      "        \n",
      "Employee Data: \n",
      "        Useful for when you need to answer questions about employee data stored in pandas dataframe 'df'. \n",
      "        Run python pandas operations on 'df' to help you get the right answer.\n",
      "        'df' has the following columns: ['employee_id', 'name', 'position', 'organizational_unit', 'rank', 'hire_date', 'regularization_date', 'vacation_leave', 'sick_leave', 'basic_pay_in_php', 'employment_status', 'supervisor']\n",
      "        \n",
      "        <user>: How many Sick Leave do I have left?\n",
      "        <assistant>: df[df['name'] == 'Alexander Verdad']['sick_leave']\n",
      "        <assistant>: You have n sick leaves left.              \n",
      "        \n",
      "Calculator: \n",
      "        Useful when you need to do math operations or arithmetic.\n",
      "        \n",
      "        \n",
      "\n",
      "Use the following format:\n",
      "\n",
      "Question: the input question you must answer\n",
      "Thought: you should always think about what to do\n",
      "Action: the action to take, should be one of [Timekeeping Policies, Employee Data, Calculator]\n",
      "Action Input: the input to the action\n",
      "Observation: the result of the action\n",
      "... (this Thought/Action/Action Input/Observation can repeat N times)\n",
      "Thought: I now know the final answer\n",
      "Final Answer: the final answer to the original input question\n",
      "\n",
      "Begin!\n",
      "\n",
      "Question: {input}\n",
      "Thought:{agent_scratchpad}\n"
     ]
    }
   ],
   "source": [
    "print(agent.agent.llm_chain.prompt.template)"
   ]
  },
  {
   "cell_type": "code",
   "execution_count": 90,
   "metadata": {},
   "outputs": [
    {
     "name": "stdout",
     "output_type": "stream",
     "text": [
      "\n",
      "\n",
      "\u001b[1m> Entering new  chain...\u001b[0m\n",
      "\u001b[32;1m\u001b[1;3mI need to check the employee data to find the sick leave balance for Alexander Verdad.\n",
      "Action: Employee Data\n",
      "Action Input: df[df['name'] == 'Alexander Verdad']['sick_leave']\u001b[0m\n",
      "Observation: \u001b[33;1m\u001b[1;3m2    8\n",
      "Name: sick_leave, dtype: int64\u001b[0m\n",
      "Thought:\u001b[32;1m\u001b[1;3mThe sick leave balance for Alexander Verdad is 8.\n",
      "Final Answer: You have 8 sick leaves left.\u001b[0m\n",
      "\n",
      "\u001b[1m> Finished chain.\u001b[0m\n"
     ]
    },
    {
     "data": {
      "text/plain": [
       "'You have 8 sick leaves left.'"
      ]
     },
     "execution_count": 90,
     "metadata": {},
     "output_type": "execute_result"
    }
   ],
   "source": [
    "get_response(\"How many Sick Leave do I have left?\")"
   ]
  },
  {
   "cell_type": "code",
   "execution_count": 91,
   "metadata": {},
   "outputs": [
    {
     "name": "stdout",
     "output_type": "stream",
     "text": [
      "\n",
      "\n",
      "\u001b[1m> Entering new  chain...\u001b[0m\n",
      "\u001b[32;1m\u001b[1;3mI need to check the employee data to find the position of Alexander Verdad.\n",
      "Action: Employee Data\n",
      "Action Input: df[df['name'] == 'Alexander Verdad']['position']\u001b[0m\n",
      "Observation: \u001b[33;1m\u001b[1;3m2    Account Recievable Assistant\n",
      "Name: position, dtype: object\u001b[0m\n",
      "Thought:"
     ]
    },
    {
     "name": "stderr",
     "output_type": "stream",
     "text": [
      "Retrying langchain.chat_models.openai.ChatOpenAI.completion_with_retry.<locals>._completion_with_retry in 1.0 seconds as it raised APIError: Bad gateway. {\"error\":{\"code\":502,\"message\":\"Bad gateway.\",\"param\":null,\"type\":\"cf_bad_gateway\"}} 502 {'error': {'code': 502, 'message': 'Bad gateway.', 'param': None, 'type': 'cf_bad_gateway'}} {'Date': 'Sun, 09 Jul 2023 00:39:38 GMT', 'Content-Type': 'application/json', 'Content-Length': '84', 'Connection': 'keep-alive', 'X-Frame-Options': 'SAMEORIGIN', 'Referrer-Policy': 'same-origin', 'Cache-Control': 'private, max-age=0, no-store, no-cache, must-revalidate, post-check=0, pre-check=0', 'Expires': 'Thu, 01 Jan 1970 00:00:01 GMT', 'Server': 'cloudflare', 'CF-RAY': '7e3c7b2aff96bea7-CGK', 'alt-svc': 'h3=\":443\"; ma=86400'}.\n"
     ]
    },
    {
     "name": "stdout",
     "output_type": "stream",
     "text": [
      "\u001b[32;1m\u001b[1;3mThe position of Alexander Verdad is Account Receivable Assistant.\n",
      "Final Answer: Account Receivable Assistant\u001b[0m\n",
      "\n",
      "\u001b[1m> Finished chain.\u001b[0m\n"
     ]
    },
    {
     "data": {
      "text/plain": [
       "'Account Receivable Assistant'"
      ]
     },
     "execution_count": 91,
     "metadata": {},
     "output_type": "execute_result"
    }
   ],
   "source": [
    "get_response(\"What position is me?\")"
   ]
  },
  {
   "cell_type": "code",
   "execution_count": 95,
   "metadata": {},
   "outputs": [
    {
     "name": "stdout",
     "output_type": "stream",
     "text": [
      "\n",
      "\n",
      "\u001b[1m> Entering new  chain...\u001b[0m\n",
      "\u001b[32;1m\u001b[1;3mI need to check the employee data to find the basic pay and the number of unused vacation leaves.\n",
      "Action: Employee Data\n",
      "Action Input: df[df['name'] == 'Alexander Verdad'][['basic_pay_in_php', 'vacation_leave']]\u001b[0m\n",
      "Observation: \u001b[33;1m\u001b[1;3m   basic_pay_in_php  vacation_leave\n",
      "2             15000              45\u001b[0m\n",
      "Thought:\u001b[32;1m\u001b[1;3mI have found that Alexander Verdad has a basic pay of Php 15,000 and 45 unused vacation leaves.\n",
      "Thought: I can now calculate the amount to be paid for encashing the unused VLs.\n",
      "Action: Calculator\n",
      "Action Input: 15000 * 45\u001b[0m\n",
      "\n",
      "\u001b[1m> Entering new  chain...\u001b[0m\n",
      "15000 * 45\u001b[32;1m\u001b[1;3m```text\n",
      "15000 * 45\n",
      "```\n",
      "...numexpr.evaluate(\"15000 * 45\")...\n",
      "\u001b[0m\n",
      "Answer: \u001b[33;1m\u001b[1;3m675000\u001b[0m\n",
      "\u001b[1m> Finished chain.\u001b[0m\n",
      "\n",
      "Observation: \u001b[38;5;200m\u001b[1;3mAnswer: 675000\u001b[0m\n",
      "Thought:"
     ]
    },
    {
     "name": "stderr",
     "output_type": "stream",
     "text": [
      "Retrying langchain.chat_models.openai.ChatOpenAI.completion_with_retry.<locals>._completion_with_retry in 1.0 seconds as it raised RateLimitError: Rate limit reached for default-gpt-3.5-turbo in organization org-TnwHydAcTkdNqsyKHl7UVDMq on requests per min. Limit: 3 / min. Please try again in 20s. Contact us through our help center at help.openai.com if you continue to have issues. Please add a payment method to your account to increase your rate limit. Visit https://platform.openai.com/account/billing to add a payment method..\n",
      "Retrying langchain.chat_models.openai.ChatOpenAI.completion_with_retry.<locals>._completion_with_retry in 2.0 seconds as it raised RateLimitError: Rate limit reached for default-gpt-3.5-turbo in organization org-TnwHydAcTkdNqsyKHl7UVDMq on requests per min. Limit: 3 / min. Please try again in 20s. Contact us through our help center at help.openai.com if you continue to have issues. Please add a payment method to your account to increase your rate limit. Visit https://platform.openai.com/account/billing to add a payment method..\n",
      "Retrying langchain.chat_models.openai.ChatOpenAI.completion_with_retry.<locals>._completion_with_retry in 4.0 seconds as it raised RateLimitError: Rate limit reached for default-gpt-3.5-turbo in organization org-TnwHydAcTkdNqsyKHl7UVDMq on requests per min. Limit: 3 / min. Please try again in 20s. Contact us through our help center at help.openai.com if you continue to have issues. Please add a payment method to your account to increase your rate limit. Visit https://platform.openai.com/account/billing to add a payment method..\n"
     ]
    },
    {
     "name": "stdout",
     "output_type": "stream",
     "text": [
      "\u001b[32;1m\u001b[1;3mThe amount to be paid for encashing the unused VLs is Php 675,000.\n",
      "Final Answer: Php 675,000\u001b[0m\n",
      "\n",
      "\u001b[1m> Finished chain.\u001b[0m\n"
     ]
    },
    {
     "data": {
      "text/plain": [
       "'Php 675,000'"
      ]
     },
     "execution_count": 95,
     "metadata": {},
     "output_type": "execute_result"
    }
   ],
   "source": [
    "get_response(\"How much will I be paid if I encash my unused VLs?\")"
   ]
  },
  {
   "cell_type": "code",
   "execution_count": 96,
   "metadata": {},
   "outputs": [
    {
     "name": "stdout",
     "output_type": "stream",
     "text": [
      "\n",
      "\n",
      "\u001b[1m> Entering new  chain...\u001b[0m\n",
      "\u001b[32;1m\u001b[1;3mI need to check the timekeeping policies to answer this question.\n",
      "Action: Timekeeping Policies\n",
      "Action Input: Vacation Leave Policy - Probationary Employees\u001b[0m\n",
      "Observation: \u001b[36;1m\u001b[1;3mDuring probation, employees are not eligible for Vacation Leave.\u001b[0m\n",
      "Thought:\u001b[32;1m\u001b[1;3mI now know the final answer\n",
      "Final Answer: During probation, employees are not eligible for Vacation Leave.\u001b[0m\n",
      "\n",
      "\u001b[1m> Finished chain.\u001b[0m\n"
     ]
    },
    {
     "data": {
      "text/plain": [
       "'During probation, employees are not eligible for Vacation Leave.'"
      ]
     },
     "execution_count": 96,
     "metadata": {},
     "output_type": "execute_result"
    }
   ],
   "source": [
    "get_response('Are employees on probation allowed to have vacation leaves?')"
   ]
  },
  {
   "cell_type": "code",
   "execution_count": 97,
   "metadata": {},
   "outputs": [
    {
     "data": {
      "text/html": [
       "<div>\n",
       "<style scoped>\n",
       "    .dataframe tbody tr th:only-of-type {\n",
       "        vertical-align: middle;\n",
       "    }\n",
       "\n",
       "    .dataframe tbody tr th {\n",
       "        vertical-align: top;\n",
       "    }\n",
       "\n",
       "    .dataframe thead th {\n",
       "        text-align: right;\n",
       "    }\n",
       "</style>\n",
       "<table border=\"1\" class=\"dataframe\">\n",
       "  <thead>\n",
       "    <tr style=\"text-align: right;\">\n",
       "      <th></th>\n",
       "      <th>employee_id</th>\n",
       "      <th>name</th>\n",
       "      <th>position</th>\n",
       "      <th>organizational_unit</th>\n",
       "      <th>rank</th>\n",
       "      <th>hire_date</th>\n",
       "      <th>regularization_date</th>\n",
       "      <th>vacation_leave</th>\n",
       "      <th>sick_leave</th>\n",
       "      <th>basic_pay_in_php</th>\n",
       "      <th>employment_status</th>\n",
       "      <th>supervisor</th>\n",
       "    </tr>\n",
       "  </thead>\n",
       "  <tbody>\n",
       "    <tr>\n",
       "      <th>0</th>\n",
       "      <td>1005674</td>\n",
       "      <td>Joseph Peña</td>\n",
       "      <td>Accounts Recievable Supervisor</td>\n",
       "      <td>Finance Department</td>\n",
       "      <td>Supervisor</td>\n",
       "      <td>2/16/2013</td>\n",
       "      <td>7/16/2013</td>\n",
       "      <td>30</td>\n",
       "      <td>15</td>\n",
       "      <td>20000</td>\n",
       "      <td>Permanent</td>\n",
       "      <td>Richard Santos</td>\n",
       "    </tr>\n",
       "    <tr>\n",
       "      <th>1</th>\n",
       "      <td>1005675</td>\n",
       "      <td>Mark Delos Santos</td>\n",
       "      <td>HR Assistant</td>\n",
       "      <td>HR Department</td>\n",
       "      <td>Rank and File</td>\n",
       "      <td>1/1/2023</td>\n",
       "      <td>NaN</td>\n",
       "      <td>20</td>\n",
       "      <td>2</td>\n",
       "      <td>15000</td>\n",
       "      <td>Probation</td>\n",
       "      <td>Jinky Francisco</td>\n",
       "    </tr>\n",
       "    <tr>\n",
       "      <th>2</th>\n",
       "      <td>1005676</td>\n",
       "      <td>Alexander Verdad</td>\n",
       "      <td>Account Recievable Assistant</td>\n",
       "      <td>Finance Department</td>\n",
       "      <td>Rank and File</td>\n",
       "      <td>11/1/2017</td>\n",
       "      <td>5/1/2018</td>\n",
       "      <td>45</td>\n",
       "      <td>8</td>\n",
       "      <td>15000</td>\n",
       "      <td>Permanent</td>\n",
       "      <td>Joseph Santos</td>\n",
       "    </tr>\n",
       "    <tr>\n",
       "      <th>3</th>\n",
       "      <td>1005677</td>\n",
       "      <td>Jinky Francisco</td>\n",
       "      <td>Recruitment Supervisor</td>\n",
       "      <td>HR Department</td>\n",
       "      <td>Supervisor</td>\n",
       "      <td>10/15/2021</td>\n",
       "      <td>4/15/2022</td>\n",
       "      <td>16</td>\n",
       "      <td>4</td>\n",
       "      <td>15000</td>\n",
       "      <td>Permanent</td>\n",
       "      <td>NaN</td>\n",
       "    </tr>\n",
       "    <tr>\n",
       "      <th>4</th>\n",
       "      <td>1005678</td>\n",
       "      <td>Richard Santos</td>\n",
       "      <td>Accounts Recievable Head</td>\n",
       "      <td>Finance Department</td>\n",
       "      <td>Manager</td>\n",
       "      <td>3/16/2016</td>\n",
       "      <td>9/16/2016</td>\n",
       "      <td>50</td>\n",
       "      <td>11</td>\n",
       "      <td>30000</td>\n",
       "      <td>Permanent</td>\n",
       "      <td>NaN</td>\n",
       "    </tr>\n",
       "  </tbody>\n",
       "</table>\n",
       "</div>"
      ],
      "text/plain": [
       "   employee_id               name                        position  \\\n",
       "0      1005674        Joseph Peña  Accounts Recievable Supervisor   \n",
       "1      1005675  Mark Delos Santos                    HR Assistant   \n",
       "2      1005676   Alexander Verdad    Account Recievable Assistant   \n",
       "3      1005677    Jinky Francisco          Recruitment Supervisor   \n",
       "4      1005678     Richard Santos        Accounts Recievable Head   \n",
       "\n",
       "  organizational_unit           rank   hire_date regularization_date  \\\n",
       "0  Finance Department     Supervisor   2/16/2013           7/16/2013   \n",
       "1       HR Department  Rank and File    1/1/2023                 NaN   \n",
       "2  Finance Department  Rank and File   11/1/2017            5/1/2018   \n",
       "3       HR Department     Supervisor  10/15/2021           4/15/2022   \n",
       "4  Finance Department        Manager   3/16/2016           9/16/2016   \n",
       "\n",
       "   vacation_leave  sick_leave  basic_pay_in_php employment_status  \\\n",
       "0              30          15             20000         Permanent   \n",
       "1              20           2             15000         Probation   \n",
       "2              45           8             15000         Permanent   \n",
       "3              16           4             15000         Permanent   \n",
       "4              50          11             30000         Permanent   \n",
       "\n",
       "        supervisor  \n",
       "0   Richard Santos  \n",
       "1  Jinky Francisco  \n",
       "2    Joseph Santos  \n",
       "3              NaN  \n",
       "4              NaN  "
      ]
     },
     "execution_count": 97,
     "metadata": {},
     "output_type": "execute_result"
    }
   ],
   "source": [
    "df = pd.read_csv(\"data/employee_data.csv\")\n",
    "df.head()"
   ]
  }
 ],
 "metadata": {
  "kernelspec": {
   "display_name": "langchain",
   "language": "python",
   "name": "python3"
  },
  "language_info": {
   "codemirror_mode": {
    "name": "ipython",
    "version": 3
   },
   "file_extension": ".py",
   "mimetype": "text/x-python",
   "name": "python",
   "nbconvert_exporter": "python",
   "pygments_lexer": "ipython3",
   "version": "3.10.11"
  },
  "orig_nbformat": 4
 },
 "nbformat": 4,
 "nbformat_minor": 2
}
